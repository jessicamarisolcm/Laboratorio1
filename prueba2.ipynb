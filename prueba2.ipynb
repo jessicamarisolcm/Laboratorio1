{
 "cells": [
  {
   "cell_type": "markdown",
   "id": "e8d64e36-efb5-4a32-8a68-31468e716b68",
   "metadata": {
    "jp-MarkdownHeadingCollapsed": true,
    "tags": []
   },
   "source": [
    "# 1. Git"
   ]
  },
  {
   "cell_type": "markdown",
   "id": "2a30aedb-60db-4539-938c-18270406f170",
   "metadata": {},
   "source": [
    "Git es un sistema de control de versiones distribuido que se utiliza comúnmente en el desarrollo de software para gestionar cambios en el código fuente de un proyecto. Fue creado por Linus Torvalds en 2005 y se ha convertido en una herramienta fundamental en el desarrollo colaborativo de software.\n",
    "\n",
    "Algunos conceptos clave relacionados con Git son:"
   ]
  },
  {
   "cell_type": "markdown",
   "id": "7744e5ed-0033-46b6-96c7-5e0eccf3fd66",
   "metadata": {},
   "source": [
    "**Repositorio:** Un repositorio en Git es un espacio donde se almacena la información sobre un proyecto, incluyendo el historial de cambios.\n",
    "\n",
    "**Commit:** Un commit en Git es un conjunto de cambios realizados en el código. Cada commit tiene un mensaje que describe los cambios realizados.\n",
    "\n",
    "**Rama (Branch):** Las ramas en Git permiten trabajar en paralelo en diferentes líneas de desarrollo. Puedes tener una rama principal (generalmente llamada master o main) y crear ramas adicionales para trabajar en nuevas características o solucionar problemas sin afectar directamente a la rama principal.\n",
    "\n",
    "**Fusionar (Merge):** Fusionar en Git significa combinar los cambios de una rama en otra. Esto se hace comúnmente para integrar nuevas características desarrolladas en ramas separadas de vuelta a la rama principal.\n",
    "\n",
    "**Clonar:** Clonar un repositorio Git significa copiar el repositorio completo, incluyendo su historial de cambios, en una nueva ubicación.\n",
    "\n",
    "**Pull Request:** Es una característica comúnmente utilizada en plataformas como GitHub o GitLab. Permite proponer cambios en un repositorio y solicitar que esos cambios se fusionen en la rama principal."
   ]
  },
  {
   "cell_type": "markdown",
   "id": "2f199b10-a447-4f74-9c93-21b9a403c891",
   "metadata": {},
   "source": [
    "## 2. Comandos básicos de GIT"
   ]
  },
  {
   "cell_type": "markdown",
   "id": "4ba6f208-f3f1-4e6c-a3ee-21899f793657",
   "metadata": {},
   "source": [
    "1. **git init:** Inicia un nuevo repositorio Git en el directorio actual.\n",
    "2. **git clone:** Clona un repositorio existente en una nueva carpeta.\n",
    "3. **git add:** Agrega cambios al área de preparación (staging).\n",
    "4. **git commit:** Registra los cambios en el repositorio.\n",
    "5. **git status:** Muestra el estado actual de los archivos en tu directorio de trabajo y en el área de preparación.\n",
    "6. **git log:** Muestra el historial de commits.\n",
    "7. **git branch:** Lista las ramas en tu repositorio y muestra la rama actual.\n",
    "8. **git checkout:** Cambia entre ramas o restaura archivos.\n",
    "9. **git merge:** Fusiona cambios de una rama a otra.\n",
    "10. **git pull:** Obtiene cambios del repositorio remoto y los fusiona con tu rama actual.\n",
    "11. **git push:** Sube cambios locales a un repositorio remoto.\n",
    "\n"
   ]
  },
  {
   "cell_type": "markdown",
   "id": "31c8e971-bc01-46d8-9117-b87a4dd385ee",
   "metadata": {},
   "source": [
    "Estos son solo algunos de los comandos básicos. Git ofrece una amplia gama de funcionalidades, por lo que es recomendable explorar más comandos y opciones a medida que te familiarices con el sistema de control de versiones. Puedes utilizar **git --help** seguido del comando para obtener información detallada sobre cualquier comando específico."
   ]
  },
  {
   "cell_type": "markdown",
   "id": "cba87e03-8218-415d-a8f8-9d181a22c3a4",
   "metadata": {},
   "source": [
    "### Ejemplo"
   ]
  },
  {
   "cell_type": "markdown",
   "id": "744197c9-4d34-4003-a8cd-72fb2b3d415c",
   "metadata": {},
   "source": []
  },
  {
   "cell_type": "markdown",
   "id": "8a347e02-3d23-4a69-a586-791fdd694f2a",
   "metadata": {},
   "source": []
  },
  {
   "cell_type": "markdown",
   "id": "34770a1d-99df-485a-92be-4f604feb15b9",
   "metadata": {},
   "source": []
  },
  {
   "cell_type": "markdown",
   "id": "5f19822a-ed23-4286-bfd4-bdbd74a8c520",
   "metadata": {
    "tags": []
   },
   "source": [
    "# 2. Github"
   ]
  },
  {
   "cell_type": "markdown",
   "id": "f0cd1801-a15b-4131-9b28-55c7f1cf2de1",
   "metadata": {},
   "source": [
    "GitHub es una plataforma de desarrollo colaborativo que utiliza el sistema de control de versiones Git. Fue creada para facilitar la colaboración entre desarrolladores en proyectos de software, aunque se ha expandido para admitir otros tipos de proyectos. Algunas características clave de GitHub incluyen:\n",
    "\n",
    "1. **Control de Versiones:** GitHub utiliza Git, un sistema de control de versiones distribuido, que permite a los desarrolladores realizar un seguimiento de los cambios en el código fuente y colaborar de manera eficiente.\n",
    "\n",
    "2. **Repositorios:** Los proyectos en GitHub se almacenan en repositorios, que son estructuras de almacenamiento que contienen todos los archivos, historial y metadatos asociados con un proyecto.\n",
    "\n",
    "3. **Colaboración:** GitHub facilita la colaboración entre desarrolladores mediante funciones como bifurcación (forking), solicitudes de extracción (pull requests), problemas (issues) y comentarios en línea.\n",
    "\n",
    "4. **Seguimiento de Problemas:** Los proyectos pueden hacer un seguimiento de problemas, tareas y mejoras utilizando el sistema de seguimiento de problemas integrado.\n",
    "\n",
    "5. **Despliegue Automático:** GitHub Actions permite la automatización de tareas, como pruebas, construcciones y despliegues automáticos.\n",
    "\n",
    "6. **Wikis y Páginas:** Los repositorios pueden incluir wikis para documentación y páginas web asociadas con el proyecto.\n",
    "\n",
    "7. **Licenciamiento:** GitHub permite especificar la licencia del proyecto para que los colaboradores sepan cómo pueden utilizar y contribuir al código.\n",
    "\n",
    "GitHub se ha convertido en una herramienta esencial en el desarrollo de software colaborativo y se utiliza ampliamente en la comunidad de programadores para gestionar proyectos de código abierto y privado."
   ]
  },
  {
   "cell_type": "markdown",
   "id": "c43a486c-3b39-4260-a516-68704ea0115e",
   "metadata": {},
   "source": [
    "### Ejemplo de uso de GitHub"
   ]
  },
  {
   "cell_type": "markdown",
   "id": "848625b0-ba9e-4327-9a1f-9f790907129a",
   "metadata": {},
   "source": [
    "1. **Creación de un Repositorio:**\n",
    "\n",
    "Inicia sesión en tu cuenta de GitHub.\n",
    "Haz clic en el botón \"Nuevo\" para crear un nuevo repositorio.\n",
    "Completa la información del repositorio, como el nombre, la descripción y la licencia.\n",
    "Haz clic en \"Crear repositorio\".\n",
    "\n",
    "2. **Clonar el repositorio:**\n",
    "\n",
    "Abre tu terminal y ejecuta el comando git clone seguido de la URL del repositorio que acabas de crear. Esto creará una copia local del repositorio en tu máquina.\n",
    "\n",
    "`git clone https://github.com/jessicamarisolcm/laboratorio1.git`\n",
    "\n",
    "3. **Hacer cambios:**\n",
    "Agrega o modifica archivos en tu proyecto \n",
    "\n",
    "4. **Añadir y confirmar cambios:**\n",
    "Utiliza los comandos `git add` y `git commit` para preparar y confirmar tus cambios\n",
    "\n",
    "`git add .\n",
    "git commit -m \"Añadir nuevas funcionalidades\"`\n",
    "\n",
    "5. **Subir cambios al repositorio remoto:**\n",
    "Utiliza el comando `git push` para enviar tus cambios al repositorio en GitHub\n",
    "\n",
    "`git push origin master` \n",
    "\n",
    "6. **Solicitar una Extracción (Pull Request):**\n",
    "Si estás trabajando en un proyecto colaborativo, puedes crear una rama (\"branch\") para tus cambios y luego enviar una solicitud de extracción. \n",
    "\n",
    "`git checkout -b Mi_Nueva_Funcionalidad`\n",
    "\n",
    "`git push origin Mi_Nueva_Funcionalidad`\n",
    "\n",
    "7. **Colaboración y fusión:**\n",
    "Otros colaboradores pueden revisar tus cambios, hacer comentarios y, si todo está bien, fusionarlos con la rama principal del proyecto. \n",
    "\n",
    "8. **Actualizar tu repositorio local:**\n",
    "Para mantener tu copia local actualizada, pu edes usar el comando `git pull`. \n",
    "\n",
    "`git pull origin master`\n",
    "\n",
    "Esto es solo un ejemplo básico, y GitHub ofrece muchas más características y posibilidades, como la gestión de problemas, la integración continua con GitHub Actions, y más. El flujo de trabajo puede variar según el proyecto y las preferencias del equipo.\n",
    "\n"
   ]
  },
  {
   "cell_type": "markdown",
   "id": "44ebfbcf-62a4-47bb-b29d-481742824d42",
   "metadata": {},
   "source": [
    "### ¿Cómo subir un archivo desde Jupiter Launch a GitHub?"
   ]
  },
  {
   "cell_type": "markdown",
   "id": "a8037c74-42f7-4eff-a80b-c71105b518ef",
   "metadata": {},
   "source": [
    "Si deseas subir un archivo desde Jupyter Notebook o Jupyter Lab a un repositorio de GitHub, puedes seguir estos pasos:\n",
    "\n",
    "1. **Asegúrate de tener Git instalado:\n",
    "\n",
    "Verifica que Git esté instalado en tu máquina. Puedes hacerlo ejecutando el siguiente comando en tu terminal o símbolo del sistema:\n",
    "\n",
    "`git --version`\n",
    "\n",
    "Si no tienes Git instalado, descárgalo e instálalo desde https://git-scm.com/\n",
    "\n",
    "2. **Abre una terminal en Jupyter Notebook:**\n",
    "En Jupyter Notebook, abre una nueva terminal desde el menú \"New\" --> \"Terminal\". \n",
    "\n",
    "3. **Navega al directorio del archivo:**\n",
    "Utiliza el comando `cd` para navegar al directorio donde se encuentra tu archivo de Jupyter Notebook. Por ejemplo:\n",
    "\n",
    "`cd /Maestría/2024/Laboratorio1`\n",
    "\n",
    "4. **Inicializa un repositorio Git:**\n",
    "Inicializa un repositorio Git en el directorio ejecutando: \n",
    "\n",
    "`git init`\n",
    "\n",
    "5. **Agrega y confirma el archivo:**\n",
    "\n",
    "`git add Laboratorio_1_V_24000218.ipynb`\n",
    "\n",
    "\n"
   ]
  }
 ],
 "metadata": {
  "kernelspec": {
   "display_name": "Python 3 (ipykernel)",
   "language": "python",
   "name": "python3"
  },
  "language_info": {
   "codemirror_mode": {
    "name": "ipython",
    "version": 3
   },
   "file_extension": ".py",
   "mimetype": "text/x-python",
   "name": "python",
   "nbconvert_exporter": "python",
   "pygments_lexer": "ipython3",
   "version": "3.11.5"
  }
 },
 "nbformat": 4,
 "nbformat_minor": 5
}
