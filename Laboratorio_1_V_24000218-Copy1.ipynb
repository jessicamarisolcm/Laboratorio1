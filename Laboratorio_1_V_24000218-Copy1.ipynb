{
 "cells": [
  {
   "cell_type": "markdown",
   "id": "e8d64e36-efb5-4a32-8a68-31468e716b68",
   "metadata": {
    "jp-MarkdownHeadingCollapsed": true,
    "tags": []
   },
   "source": [
    "# 1. Git"
   ]
  },
  {
   "cell_type": "markdown",
   "id": "2a30aedb-60db-4539-938c-18270406f170",
   "metadata": {},
   "source": [
    "Git es un sistema de control de versiones distribuido que se utiliza comúnmente en el desarrollo de software para gestionar cambios en el código fuente de un proyecto. Fue creado por Linus Torvalds en 2005 y se ha convertido en una herramienta fundamental en el desarrollo colaborativo de software.\n",
    "\n",
    "Algunos conceptos clave relacionados con Git son:"
   ]
  },
  {
   "cell_type": "markdown",
   "id": "7744e5ed-0033-46b6-96c7-5e0eccf3fd66",
   "metadata": {},
   "source": [
    "**Repositorio:** Un repositorio en Git es un espacio donde se almacena la información sobre un proyecto, incluyendo el historial de cambios.\n",
    "\n",
    "**Commit:** Un commit en Git es un conjunto de cambios realizados en el código. Cada commit tiene un mensaje que describe los cambios realizados.\n",
    "\n",
    "**Rama (Branch):** Las ramas en Git permiten trabajar en paralelo en diferentes líneas de desarrollo. Puedes tener una rama principal (generalmente llamada master o main) y crear ramas adicionales para trabajar en nuevas características o solucionar problemas sin afectar directamente a la rama principal.\n",
    "\n",
    "**Fusionar (Merge):** Fusionar en Git significa combinar los cambios de una rama en otra. Esto se hace comúnmente para integrar nuevas características desarrolladas en ramas separadas de vuelta a la rama principal.\n",
    "\n",
    "**Clonar:** Clonar un repositorio Git significa copiar el repositorio completo, incluyendo su historial de cambios, en una nueva ubicación.\n",
    "\n",
    "**Pull Request:** Es una característica comúnmente utilizada en plataformas como GitHub o GitLab. Permite proponer cambios en un repositorio y solicitar que esos cambios se fusionen en la rama principal."
   ]
  },
  {
   "cell_type": "markdown",
   "id": "2f199b10-a447-4f74-9c93-21b9a403c891",
   "metadata": {},
   "source": [
    "## 2. Comandos básicos de GIT"
   ]
  },
  {
   "cell_type": "markdown",
   "id": "4ba6f208-f3f1-4e6c-a3ee-21899f793657",
   "metadata": {},
   "source": [
    "1. **git init:** Inicia un nuevo repositorio Git en el directorio actual.\n",
    "2. **git clone:** Clona un repositorio existente en una nueva carpeta.\n",
    "3. **git add:** Agrega cambios al área de preparación (staging).\n",
    "4. **git commit:** Registra los cambios en el repositorio.\n",
    "5. **git status:** Muestra el estado actual de los archivos en tu directorio de trabajo y en el área de preparación.\n",
    "6. **git log:** Muestra el historial de commits.\n",
    "7. **git branch:** Lista las ramas en tu repositorio y muestra la rama actual.\n",
    "8. **git checkout:** Cambia entre ramas o restaura archivos.\n",
    "9. **git merge:** Fusiona cambios de una rama a otra.\n",
    "10. **git pull:** Obtiene cambios del repositorio remoto y los fusiona con tu rama actual.\n",
    "11. **git push:** Sube cambios locales a un repositorio remoto.\n",
    "\n"
   ]
  },
  {
   "cell_type": "markdown",
   "id": "31c8e971-bc01-46d8-9117-b87a4dd385ee",
   "metadata": {},
   "source": [
    "Estos son solo algunos de los comandos básicos. Git ofrece una amplia gama de funcionalidades, por lo que es recomendable explorar más comandos y opciones a medida que te familiarices con el sistema de control de versiones. Puedes utilizar **git --help** seguido del comando para obtener información detallada sobre cualquier comando específico."
   ]
  },
  {
   "cell_type": "markdown",
   "id": "34770a1d-99df-485a-92be-4f604feb15b9",
   "metadata": {},
   "source": []
  },
  {
   "cell_type": "markdown",
   "id": "5f19822a-ed23-4286-bfd4-bdbd74a8c520",
   "metadata": {
    "tags": []
   },
   "source": [
    "# 2. Github"
   ]
  },
  {
   "cell_type": "markdown",
   "id": "f0cd1801-a15b-4131-9b28-55c7f1cf2de1",
   "metadata": {},
   "source": [
    "GitHub es una plataforma de desarrollo colaborativo que utiliza el sistema de control de versiones Git. Fue creada para facilitar la colaboración entre desarrolladores en proyectos de software, aunque se ha expandido para admitir otros tipos de proyectos. Algunas características clave de GitHub incluyen:\n",
    "\n",
    "1. **Control de Versiones:** GitHub utiliza Git, un sistema de control de versiones distribuido, que permite a los desarrolladores realizar un seguimiento de los cambios en el código fuente y colaborar de manera eficiente.\n",
    "\n",
    "2. **Repositorios:** Los proyectos en GitHub se almacenan en repositorios, que son estructuras de almacenamiento que contienen todos los archivos, historial y metadatos asociados con un proyecto.\n",
    "\n",
    "3. **Colaboración:** GitHub facilita la colaboración entre desarrolladores mediante funciones como bifurcación (forking), solicitudes de extracción (pull requests), problemas (issues) y comentarios en línea.\n",
    "\n",
    "4. **Seguimiento de Problemas:** Los proyectos pueden hacer un seguimiento de problemas, tareas y mejoras utilizando el sistema de seguimiento de problemas integrado.\n",
    "\n",
    "5. **Despliegue Automático:** GitHub Actions permite la automatización de tareas, como pruebas, construcciones y despliegues automáticos.\n",
    "\n",
    "6. **Wikis y Páginas:** Los repositorios pueden incluir wikis para documentación y páginas web asociadas con el proyecto.\n",
    "\n",
    "7. **Licenciamiento:** GitHub permite especificar la licencia del proyecto para que los colaboradores sepan cómo pueden utilizar y contribuir al código.\n",
    "\n",
    "GitHub se ha convertido en una herramienta esencial en el desarrollo de software colaborativo y se utiliza ampliamente en la comunidad de programadores para gestionar proyectos de código abierto y privado."
   ]
  },
  {
   "cell_type": "markdown",
   "id": "c43a486c-3b39-4260-a516-68704ea0115e",
   "metadata": {
    "tags": []
   },
   "source": [
    "### Ejemplo de uso de GitHub"
   ]
  },
  {
   "cell_type": "markdown",
   "id": "848625b0-ba9e-4327-9a1f-9f790907129a",
   "metadata": {},
   "source": [
    "1. **Creación de un Repositorio:**\n",
    "\n",
    "Inicia sesión en tu cuenta de GitHub.\n",
    "Haz clic en el botón \"Nuevo\" para crear un nuevo repositorio.\n",
    "Completa la información del repositorio, como el nombre, la descripción y la licencia.\n",
    "Haz clic en \"Crear repositorio\".\n",
    "\n",
    "2. **Clonar el repositorio:**\n",
    "\n",
    "Abre tu terminal y ejecuta el comando git clone seguido de la URL del repositorio que acabas de crear. Esto creará una copia local del repositorio en tu máquina.\n",
    "\n",
    "`git clone https://github.com/jessicamarisolcm/laboratorio1.git`\n",
    "\n",
    "3. **Hacer cambios:**\n",
    "Agrega o modifica archivos en tu proyecto \n",
    "\n",
    "4. **Añadir y confirmar cambios:**\n",
    "Utiliza los comandos `git add` y `git commit` para preparar y confirmar tus cambios\n",
    "\n",
    "`git add .\n",
    "git commit -m \"Añadir nuevas funcionalidades\"`\n",
    "\n",
    "5. **Subir cambios al repositorio remoto:**\n",
    "Utiliza el comando `git push` para enviar tus cambios al repositorio en GitHub\n",
    "\n",
    "`git push origin master` \n",
    "\n",
    "6. **Solicitar una Extracción (Pull Request):**\n",
    "Si estás trabajando en un proyecto colaborativo, puedes crear una rama (\"branch\") para tus cambios y luego enviar una solicitud de extracción. \n",
    "\n",
    "`git checkout -b Mi_Nueva_Funcionalidad`\n",
    "\n",
    "`git push origin Mi_Nueva_Funcionalidad`\n",
    "\n",
    "7. **Colaboración y fusión:**\n",
    "Otros colaboradores pueden revisar tus cambios, hacer comentarios y, si todo está bien, fusionarlos con la rama principal del proyecto. \n",
    "\n",
    "8. **Actualizar tu repositorio local:**\n",
    "Para mantener tu copia local actualizada, pu edes usar el comando `git pull`. \n",
    "\n",
    "`git pull origin master`\n",
    "\n",
    "Esto es solo un ejemplo básico, y GitHub ofrece muchas más características y posibilidades, como la gestión de problemas, la integración continua con GitHub Actions, y más. El flujo de trabajo puede variar según el proyecto y las preferencias del equipo.\n",
    "\n"
   ]
  },
  {
   "cell_type": "markdown",
   "id": "44ebfbcf-62a4-47bb-b29d-481742824d42",
   "metadata": {
    "tags": []
   },
   "source": [
    "### ¿Cómo subir un archivo desde Jupiter Launch a GitHub?"
   ]
  },
  {
   "cell_type": "markdown",
   "id": "a8037c74-42f7-4eff-a80b-c71105b518ef",
   "metadata": {},
   "source": [
    "Si deseas subir un archivo desde Jupyter Notebook o Jupyter Lab a un repositorio de GitHub, puedes seguir estos pasos:\n",
    "\n",
    "1. **Asegúrate de tener Git instalado:**\n",
    "\n",
    "- Verifica que Git esté instalado en tu máquina. Puedes hacerlo ejecutando el siguiente comando en tu terminal o símbolo del sistema:\n",
    "\n",
    "`git --version`\n",
    "\n",
    "- Si no tienes Git instalado, descárgalo e instálalo desde https://git-scm.com/\n",
    "\n",
    "2. **Abre una terminal en Jupyter Notebook:**\n",
    "- En Jupyter Notebook, abre una nueva terminal desde el menú \"New\" --> \"Terminal\". \n",
    "\n",
    "3. **Navega al directorio del archivo:**\n",
    "- Utiliza el comando `cd` para navegar al directorio donde se encuentra tu archivo de Jupyter Notebook. Por ejemplo:\n",
    "\n",
    "`cd /Maestría/2024/Laboratorio1`\n",
    "\n",
    "4. **Inicializa un repositorio Git:**\n",
    "- Inicializa un repositorio Git en el directorio ejecutando: \n",
    "\n",
    "`git init`\n",
    "\n",
    "5. **Agrega y confirma el archivo:**\n",
    "\n",
    "`git add Laboratorio_1_V_24000218.ipynb`\n",
    "\n",
    "- Realiza un commit para confirmar los cambios: \n",
    "\n",
    "\n",
    "`git commit -m \"Añadir archivo de Jupyter Notebook\"`\n",
    "\n",
    "6. **Crea un repositorio en Github:**\n",
    "En tu cuenta de GitHub, crea un nuevo repositorio.\n",
    "\n",
    "7. **Conecta tu repositorio local con GitHub:**\n",
    "\n",
    "- Copia la URL del repositorio que acabas de crear.\n",
    "\n",
    "- Asocia tu repositorio local con el repositorio de GitHub ejecutando:\n",
    "\n",
    "`git remote add origin https://github.com/jessicamarisolcm/Laboratorio1.git`\n",
    "\n",
    "- Sustituye la URL con la URL de **tu propio repositorio**\n",
    "\n",
    "8. **Sube tus cambios a GitHub:**\n",
    "-Sube tus cambios al repositorio de GitHub:\n",
    "`git push -u origin master`\n",
    "\n",
    "-Debes modificar y colocar el nombre de tu rama\n"
   ]
  },
  {
   "cell_type": "markdown",
   "id": "051402db-60a1-4e06-af2b-b0c0e04ee263",
   "metadata": {
    "tags": []
   },
   "source": [
    "# 3. Magic Cells"
   ]
  },
  {
   "cell_type": "markdown",
   "id": "2dd63272-2a1d-4357-b3c4-19ca160a0f91",
   "metadata": {},
   "source": [
    "En el contexto de Jupyter Notebooks, los \"magic cells\" se refieren a comandos especiales que proporcionan funcionalidades adicionales. Estos comandos comienzan con % para comandos de línea única o %% para comandos de celda completa.\n",
    "\n",
    "#### Comandos de línea única (%)\n",
    "\n",
    "1. **%run:**\n",
    "\n",
    "Ejecuta un archivo como si fuera un programa de Python:\n",
    "\n",
    "`%run mi_script.py`\n",
    "\n",
    "2. **%load:**\n",
    "\n",
    "Carga el contenido de un archivo en una celda de código:\n",
    "\n",
    "`%load mi_script.py`\n",
    "\n",
    "3. **%matplotlib:**\n",
    "\n",
    "Configura la integración de Matplotlib para trabajar con Jupyter Notebooks:\n",
    "\n",
    "`%matplotlib inline`\n",
    "\n",
    "4. **%%time:**\n",
    "\n",
    "Mide el tiempo de ejecución de una celda completa:\n",
    "\n",
    "`%%time`\n",
    "###### Código a medir\n",
    "\n",
    "5. **%pwd:**\n",
    "\n",
    "Muestra el directorio de trabajo actual:\n",
    "\n",
    "`%pwd`\n",
    "\n",
    "6. **%ls:**\n",
    "\n",
    "Lista los archivos y carpetas en el directorio actual:\n",
    "\n",
    "`%ls`\n",
    "\n",
    "7. **%cd:**\n",
    "\n",
    "Cambia el directorio de trabajo:\n",
    "\n",
    "`%cd /ruta/al/nuevo/directorio`\n",
    "\n",
    "8. **%env:**\n",
    "\n",
    "Muestra o configura variables de entorno:\n",
    "\n",
    "`%env VARIABLE=valor`\n",
    "`%env`\n",
    "\n",
    "#### Comandos de Celda Completa (%%)\n",
    "\n",
    "9. **%%html:**\n",
    "\n",
    "Ejecuta una celda como código HTML:\n",
    "\n",
    "`%%html`\n",
    "`<h1>¡Hola, mundo!</h1>`\n",
    "\n",
    "10. **%%timeit:**\n",
    "\n",
    "Mide el tiempo de ejecución de una celda y repite la medición varias veces para obtener un tiempo más preciso:\n",
    "\n",
    "`%%timeit`\n",
    "\n",
    "##### Código a medir\n",
    "\n",
    "11. **%%writefile:**\n",
    "\n",
    "Escribe el contenido de la celda en un archivo:\n",
    "\n",
    "`%%writefile mi_archivo.txt`\n",
    "Contenido del archivo\n",
    "\n",
    "12. **%%bash:**\n",
    "\n",
    "Ejecuta comandos de Bash en una celda:\n",
    "\n",
    "`%%bash`\n",
    "echo \"Hola desde Bash\"\n",
    "\n",
    "Estos son solo algunos ejemplos, y hay muchos más comandos mágicos disponibles en Jupyter Notebooks. Puedes explorarlos utilizando %lsmagic para obtener la lista completa y luego obtener ayuda sobre un comando específico utilizando %comando? para conocer más detalles sobre su uso."
   ]
  },
  {
   "cell_type": "markdown",
   "id": "09a0a213-ab28-4b25-9dd2-55618d55d94f",
   "metadata": {},
   "source": [
    "### Ejemplo de uso de Magic Cells"
   ]
  },
  {
   "cell_type": "markdown",
   "id": "32e7d460-627e-4510-bfd7-f7501115f6e8",
   "metadata": {
    "tags": []
   },
   "source": [
    "Supongamos que tenemos el siguiente contenido:\n",
    "\n"
   ]
  },
  {
   "cell_type": "code",
   "execution_count": 10,
   "id": "315c4d24-65b8-4340-9f70-d9f75be092d8",
   "metadata": {
    "tags": []
   },
   "outputs": [
    {
     "name": "stdout",
     "output_type": "stream",
     "text": [
      "Hola, Ingeniero!\n"
     ]
    }
   ],
   "source": [
    "#Ejemplo \n",
    "def saludar(nombre):\n",
    "    return f\"Hola, {nombre}!\"\n",
    "\n",
    "saludo = saludar (\"Ingeniero\")\n",
    "print (saludo)"
   ]
  },
  {
   "cell_type": "markdown",
   "id": "b5e4cc9b-cd38-48bf-b4cc-94cc2e0c1e71",
   "metadata": {},
   "source": [
    "### Ahora, utilicemos \"Magic Cells\"\n"
   ]
  },
  {
   "cell_type": "code",
   "execution_count": 11,
   "id": "10c1a250-e76c-4394-bb6f-4266350c0f5e",
   "metadata": {
    "tags": []
   },
   "outputs": [
    {
     "name": "stdout",
     "output_type": "stream",
     "text": [
      "74.3 ns ± 0.58 ns per loop (mean ± std. dev. of 7 runs, 10,000,000 loops each)\n"
     ]
    }
   ],
   "source": [
    "#Para medir el tiempo de ejecución: \n",
    "%timeit saludar(\"Ingeniero\")"
   ]
  },
  {
   "cell_type": "code",
   "execution_count": 12,
   "id": "a2463818-201b-4e7e-848e-b1d6442e7b0d",
   "metadata": {
    "tags": []
   },
   "outputs": [
    {
     "data": {
      "image/png": "[encoded data removed]",
      "text/plain": [
       "<Figure size 640x480 with 1 Axes>"
      ]
     },
     "metadata": {},
     "output_type": "display_data"
    }
   ],
   "source": [
    "#Visualización de gráficos:\n",
    "\n",
    "%matplotlib inline\n",
    "import matplotlib.pyplot as plt\n",
    "import numpy as np\n",
    "\n",
    "x = np.linspace(0, 2 * np.pi, 100)\n",
    "y = np.sin(x)\n",
    "\n",
    "plt.plot(x, y)\n",
    "plt.title('Función Seno')\n",
    "plt.xlabel('x')\n",
    "plt.ylabel('sin(x)')\n",
    "plt.show()"
   ]
  },
  {
   "cell_type": "markdown",
   "id": "9ebd2946-ecb4-414a-b669-6865c534057e",
   "metadata": {},
   "source": [
    "Este comando %matplotlib inline configura Matplotlib para mostrar gráficos directamente en el Jupyter Notebook."
   ]
  },
  {
   "cell_type": "code",
   "execution_count": 14,
   "id": "8d0c072f-ca80-4d6d-aa0e-648621ecfb93",
   "metadata": {
    "tags": []
   },
   "outputs": [
    {
     "name": "stdout",
     "output_type": "stream",
     "text": [
      "Image\t edad\t lista_numeros\t nombre\t np\t plt\t saludar\t saludo\t x\t \n",
      "y\t \n"
     ]
    }
   ],
   "source": [
    "# listar variables y sus tipos\n",
    "nombre = \"Juan\"\n",
    "edad = 30\n",
    "lista_numeros = [1, 2, 3]\n",
    "\n",
    "%who"
   ]
  },
  {
   "cell_type": "code",
   "execution_count": 18,
   "id": "290f24ec-6171-41af-b16e-2600575922a8",
   "metadata": {
    "tags": []
   },
   "outputs": [
    {
     "name": "stdout",
     "output_type": "stream",
     "text": [
      "Automatic pdb calling has been turned OFF\n"
     ]
    },
    {
     "ename": "ZeroDivisionError",
     "evalue": "division by zero",
     "output_type": "error",
     "traceback": [
      "\u001b[1;31m---------------------------------------------------------------------------\u001b[0m",
      "\u001b[1;31mZeroDivisionError\u001b[0m                         Traceback (most recent call last)",
      "Cell \u001b[1;32mIn[18], line 8\u001b[0m\n\u001b[0;32m      5\u001b[0m     \u001b[38;5;28;01mreturn\u001b[39;00m a \u001b[38;5;241m/\u001b[39m b\n\u001b[0;32m      7\u001b[0m \u001b[38;5;66;03m# Llamada que produce un error\u001b[39;00m\n\u001b[1;32m----> 8\u001b[0m resultado \u001b[38;5;241m=\u001b[39m dividir(\u001b[38;5;241m5\u001b[39m, \u001b[38;5;241m0\u001b[39m)\n",
      "Cell \u001b[1;32mIn[18], line 5\u001b[0m, in \u001b[0;36mdividir\u001b[1;34m(a, b)\u001b[0m\n\u001b[0;32m      4\u001b[0m \u001b[38;5;28;01mdef\u001b[39;00m \u001b[38;5;21mdividir\u001b[39m(a, b):\n\u001b[1;32m----> 5\u001b[0m     \u001b[38;5;28;01mreturn\u001b[39;00m a \u001b[38;5;241m/\u001b[39m b\n",
      "\u001b[1;31mZeroDivisionError\u001b[0m: division by zero"
     ]
    }
   ],
   "source": [
    "# Depuración activa\n",
    "%pdb\n",
    "\n",
    "def dividir(a, b):\n",
    "    return a / b\n",
    "\n",
    "# Llamada que produce un error\n",
    "resultado = dividir(5, 0)"
   ]
  },
  {
   "cell_type": "code",
   "execution_count": 17,
   "id": "c67bac28-089c-4dc1-a175-6ec82e45f67e",
   "metadata": {
    "tags": []
   },
   "outputs": [
    {
     "name": "stdout",
     "output_type": "stream",
     "text": [
      "   1: Supongamos que tenemos el siguiente contenido\n",
      "   2: ![Imagen de prueba](C:\\Users\\jessi\\OneDrive - Universidad Galileo\\Clases\\Ciencia de datos en Python\\Tareas\\gitclone)\n",
      "   3: ![Imagen de prueba](C:\\Users\\jessi\\OneDrive - Universidad Galileo\\Clases\\Ciencia de datos en Python\\Tareas\\gitclone.jpg)\n",
      "   4: ![Imagen de prueba](C:\\Users\\jessi\\OneDrive - Universidad Galileo\\Clases\\Ciencia de datos en Python\\Tareas\\gitclone.png)\n",
      "   5: ![Imagen de prueba](C:\\Users\\jessi\\OneDrive - Universidad Galileo\\Clases\\Ciencia de datos en Python\\Tareas\\gitclone.png)\n"
     ]
    }
   ],
   "source": [
    "# Celda 9\n",
    "%history -n 1-5"
   ]
  },
  {
   "cell_type": "code",
   "execution_count": null,
   "id": "df01239c-0de5-4031-b593-a965c7902888",
   "metadata": {},
   "outputs": [],
   "source": []
  }
 ],
 "metadata": {
  "kernelspec": {
   "display_name": "Python 3 (ipykernel)",
   "language": "python",
   "name": "python3"
  },
  "language_info": {
   "codemirror_mode": {
    "name": "ipython",
    "version": 3
   },
   "file_extension": ".py",
   "mimetype": "text/x-python",
   "name": "python",
   "nbconvert_exporter": "python",
   "pygments_lexer": "ipython3",
   "version": "3.11.5"
  }
 },
 "nbformat": 4,
 "nbformat_minor": 5
}
